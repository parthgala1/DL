{
 "cells": [
  {
   "cell_type": "code",
   "execution_count": 2,
   "metadata": {},
   "outputs": [],
   "source": [
    "import numpy as np\n",
    "import matplotlib.pyplot as plt \n",
    "from sklearn.datasets import load_digits"
   ]
  },
  {
   "cell_type": "code",
   "execution_count": 3,
   "metadata": {},
   "outputs": [],
   "source": [
    "digits = load_digits()\n",
    "x = digits.data\n",
    "y = digits.target\n",
    "n_samples, n_features = x.shape"
   ]
  },
  {
   "cell_type": "code",
   "execution_count": 5,
   "metadata": {},
   "outputs": [],
   "source": [
    "batch_size = 500\n",
    "n_batches = n_samples // batch_size"
   ]
  },
  {
   "cell_type": "code",
   "execution_count": 6,
   "metadata": {},
   "outputs": [],
   "source": [
    "def sigmoid(x):\n",
    "    return 1 / (1 + np.exp(-x))"
   ]
  },
  {
   "cell_type": "code",
   "execution_count": 7,
   "metadata": {},
   "outputs": [
    {
     "data": {
      "text/plain": [
       "array([ 0.,  0.,  5., 13.,  9.,  1.,  0.,  0.,  0.,  0., 13., 15., 10.,\n",
       "       15.,  5.,  0.,  0.,  3., 15.,  2.,  0., 11.,  8.,  0.,  0.,  4.,\n",
       "       12.,  0.,  0.,  8.,  8.,  0.,  0.,  5.,  8.,  0.,  0.,  9.,  8.,\n",
       "        0.,  0.,  4., 11.,  0.,  1., 12.,  7.,  0.,  0.,  2., 14.,  5.,\n",
       "       10., 12.,  0.,  0.,  0.,  0.,  6., 13., 10.,  0.,  0.,  0.])"
      ]
     },
     "execution_count": 7,
     "metadata": {},
     "output_type": "execute_result"
    }
   ],
   "source": [
    "x[0]"
   ]
  },
  {
   "cell_type": "code",
   "execution_count": 8,
   "metadata": {},
   "outputs": [],
   "source": [
    "latent_dim = 2\n",
    "n_hidden = 64\n"
   ]
  },
  {
   "cell_type": "code",
   "execution_count": 11,
   "metadata": {},
   "outputs": [],
   "source": [
    "import numpy as np\n",
    "\n",
    "def sigmoid(x):\n",
    "    return 1 / (1 + np.exp(-x))\n",
    "\n",
    "def relu(x):\n",
    "    return np.maximum(0, x)\n",
    "\n",
    "def forward_vae(x):\n",
    "    input_size = x.shape[0]\n",
    "    hidden_size = 4\n",
    "    latent_size = 2\n",
    "\n",
    "    # Encoder weights\n",
    "    W1 = np.random.randn(hidden_size, input_size)\n",
    "    b1 = np.zeros(hidden_size)\n",
    "\n",
    "    # Mean and logvar layer weights\n",
    "    W_mu = np.random.randn(latent_size, hidden_size)\n",
    "    b_mu = np.zeros(latent_size)\n",
    "\n",
    "    W_logvar = np.random.randn(latent_size, hidden_size)\n",
    "    b_logvar = np.zeros(latent_size)\n",
    "\n",
    "    # Decoder weights\n",
    "    W3 = np.random.randn(hidden_size, latent_size)\n",
    "    b3 = np.zeros(hidden_size)\n",
    "\n",
    "    W4 = np.random.randn(input_size, hidden_size)\n",
    "    b4 = np.zeros(input_size)\n",
    "\n",
    "    # ---- Encoder ----\n",
    "    h1 = relu(np.dot(W1, x) + b1)\n",
    "\n",
    "    mu = np.dot(W_mu, h1) + b_mu\n",
    "    logvar = np.dot(W_logvar, h1) + b_logvar\n",
    "\n",
    "    # ---- Reparameterization Trick ----\n",
    "    std = np.exp(0.5 * logvar)\n",
    "    epsilon = np.random.randn(*std.shape)\n",
    "    z = mu + epsilon * std\n",
    "\n",
    "    # ---- Decoder ----\n",
    "    h3 = relu(np.dot(W3, z) + b3)\n",
    "    x_hat = sigmoid(np.dot(W4, h3) + b4)\n",
    "\n",
    "    return x_hat, mu, logvar, z"
   ]
  },
  {
   "cell_type": "code",
   "execution_count": 12,
   "metadata": {},
   "outputs": [
    {
     "name": "stdout",
     "output_type": "stream",
     "text": [
      "Reconstructed x: [1.00000000e+00 1.00000000e+00 1.00000000e+00 3.33688671e-40\n",
      " 2.16755943e-12 4.81543665e-19]\n",
      "Latent vector z: [-37.94585251   0.08137975]\n"
     ]
    }
   ],
   "source": [
    "x = np.random.rand(6)  # input with 6 features\n",
    "x_hat, mu, logvar, z = forward_vae(x)\n",
    "\n",
    "print(\"Reconstructed x:\", x_hat)\n",
    "print(\"Latent vector z:\", z)"
   ]
  },
  {
   "cell_type": "code",
   "execution_count": 15,
   "metadata": {},
   "outputs": [],
   "source": [
    "def vae_forward(x):\n",
    "    # Encoder weights (3 input → 2 hidden)\n",
    "    W_enc = np.array([[0.1, 0.2, 0.3],\n",
    "                      [0.4, 0.5, 0.6]])\n",
    "    b_enc = np.array([0.0, 0.0])\n",
    "    \n",
    "    # Separate weights for mean and logvar (2 hidden → 2 latent)\n",
    "    W_mu = np.array([[0.2, 0.1],\n",
    "                     [0.3, 0.4]])\n",
    "    b_mu = np.array([0.1, -0.1])\n",
    "\n",
    "    W_logvar = np.array([[0.1, -0.2],\n",
    "                         [0.05, 0.3]])\n",
    "    b_logvar = np.array([-0.2, 0.2])\n",
    "\n",
    "    # Decoder (2 latent → 3 output)\n",
    "    W_dec = np.array([[0.1, 0.2],\n",
    "                      [0.3, 0.4],\n",
    "                      [0.5, 0.6]])\n",
    "    b_dec = np.array([0.0, 0.0, 0.0])\n",
    "    \n",
    "    # Encoder forward pass\n",
    "    h = relu(np.dot(W_enc, x) + b_enc)   # (2,)\n",
    "    \n",
    "    mu = np.dot(W_mu, h) + b_mu          # (2,)\n",
    "    logvar = np.dot(W_logvar, h) + b_logvar  # (2,)\n",
    "\n",
    "    std = np.exp(0.5 * logvar)\n",
    "    epsilon = np.random.randn(*std.shape)\n",
    "    z = mu + std * epsilon               # Reparameterization\n",
    "\n",
    "    x_hat = sigmoid(np.dot(W_dec, z) + b_dec)\n",
    "\n",
    "    return x_hat, z, mu, logvar"
   ]
  },
  {
   "cell_type": "code",
   "execution_count": 16,
   "metadata": {},
   "outputs": [
    {
     "name": "stdout",
     "output_type": "stream",
     "text": [
      "Input x: [0.5 0.2 0.9]\n",
      "Mean (μ): [0.256 0.344]\n",
      "Logvar: [-0.332  0.47 ]\n",
      "Sampled z: [1.10179176 0.22071844]\n",
      "Reconstructed x_hat: [0.53850433 0.60320203 0.66448083]\n"
     ]
    }
   ],
   "source": [
    "x = np.array([0.5, 0.2, 0.9])\n",
    "x_hat, z, mu, logvar = vae_forward(x)\n",
    "\n",
    "print(\"Input x:\", x)\n",
    "print(\"Mean (μ):\", mu)\n",
    "print(\"Logvar:\", logvar)\n",
    "print(\"Sampled z:\", z)\n",
    "print(\"Reconstructed x_hat:\", x_hat)"
   ]
  },
  {
   "cell_type": "code",
   "execution_count": 1,
   "metadata": {},
   "outputs": [
    {
     "name": "stderr",
     "output_type": "stream",
     "text": [
      "/Users/parthpsg/Library/Python/3.9/lib/python/site-packages/urllib3/__init__.py:35: NotOpenSSLWarning: urllib3 v2 only supports OpenSSL 1.1.1+, currently the 'ssl' module is compiled with 'LibreSSL 2.8.3'. See: https://github.com/urllib3/urllib3/issues/3020\n",
      "  warnings.warn(\n"
     ]
    },
    {
     "data": {
      "image/png": "[encoded data removed]",
      "text/plain": [
       "<Figure size 1500x400 with 20 Axes>"
      ]
     },
     "metadata": {},
     "output_type": "display_data"
    }
   ],
   "source": [
    "import numpy as np\n",
    "import matplotlib.pyplot as plt\n",
    "from keras.datasets import mnist\n",
    "\n",
    "# Load and preprocess the MNIST dataset\n",
    "(x_train, _), (x_test, _) = mnist.load_data()\n",
    "x_train = x_train.astype('float32') / 255.0  # Normalize to [0, 1]\n",
    "x_test = x_test.astype('float32') / 255.0    # Normalize to [0, 1]\n",
    "\n",
    "# Flatten the 28x28 images into 784-dimensional vectors\n",
    "x_train_flat = x_train.reshape((-1, 28 * 28))\n",
    "x_test_flat = x_test.reshape((-1, 28 * 28))\n",
    "\n",
    "# Hyperparameters\n",
    "input_size = 28 * 28  # 784 pixels per image\n",
    "latent_size = 32      # Latent space size\n",
    "\n",
    "# Initialize weights and biases (encoder and decoder)\n",
    "def initialize_variables():\n",
    "    W_enc = np.random.randn(input_size, latent_size) * 0.01  # Encoder weights\n",
    "    b_enc = np.zeros((latent_size,))                          # Encoder biases\n",
    "    W_dec = np.random.randn(latent_size, input_size) * 0.01  # Decoder weights\n",
    "    b_dec = np.zeros((input_size,))                           # Decoder biases\n",
    "    return W_enc, b_enc, W_dec, b_dec\n",
    "\n",
    "# Sigmoid activation function\n",
    "def sigmoid(x):\n",
    "    return 1 / (1 + np.exp(-x))\n",
    "\n",
    "# Encoder: Map input to latent space\n",
    "def encoder(x, W_enc, b_enc):\n",
    "    return sigmoid(np.dot(x, W_enc) + b_enc)  # Sigmoid activation\n",
    "\n",
    "# Decoder: Reconstruct input from latent space\n",
    "def decoder(z, W_dec, b_dec):\n",
    "    net = sigmoid(np.dot(z, W_dec) + b_dec)  # Sigmoid activation\n",
    "    return net / 255.0\n",
    "\n",
    "# Perform the forward pass on the test data\n",
    "def forward_pass(x, W_enc, b_enc, W_dec, b_dec):\n",
    "    # Encoder: Compress input into latent space\n",
    "    z = encoder(x, W_enc, b_enc)  # Latent representation\n",
    "    # Decoder: Reconstruct the input\n",
    "    x_reconstructed = decoder(z, W_dec, b_dec)  # Reconstructed input\n",
    "    return x_reconstructed\n",
    "\n",
    "# Initialize variables (weights and biases)\n",
    "W_enc, b_enc, W_dec, b_dec = initialize_variables()\n",
    "\n",
    "# Perform a forward pass on the first 10 test samples\n",
    "x_test_sample = x_test_flat[:10]\n",
    "x_reconstructed = forward_pass(x_test_sample, W_enc, b_enc, W_dec, b_dec)\n",
    "\n",
    "# Reshape the reconstructed images and original images back to 28x28 for visualization\n",
    "x_reconstructed_reshaped = x_reconstructed.reshape(-1, 28, 28)\n",
    "x_test_sample_reshaped = x_test[:10].reshape(-1, 28, 28)\n",
    "\n",
    "# Plot original and reconstructed images\n",
    "fig, axes = plt.subplots(2, 10, figsize=(15, 4))\n",
    "for i in range(10):\n",
    "    axes[0, i].imshow(x_test_sample_reshaped[i], cmap='gray')\n",
    "    axes[0, i].axis('off')\n",
    "    axes[1, i].imshow(x_reconstructed_reshaped[i], cmap='gray')\n",
    "    axes[1, i].axis('off')\n",
    "plt.show()"
   ]
  },
  {
   "cell_type": "code",
   "execution_count": null,
   "metadata": {},
   "outputs": [],
   "source": []
  }
 ],
 "metadata": {
  "kernelspec": {
   "display_name": "Python 3",
   "language": "python",
   "name": "python3"
  },
  "language_info": {
   "codemirror_mode": {
    "name": "ipython",
    "version": 3
   },
   "file_extension": ".py",
   "mimetype": "text/x-python",
   "name": "python",
   "nbconvert_exporter": "python",
   "pygments_lexer": "ipython3",
   "version": "3.9.6"
  }
 },
 "nbformat": 4,
 "nbformat_minor": 2
}
