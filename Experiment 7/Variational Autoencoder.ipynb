{
 "cells": [
  {
   "cell_type": "code",
   "execution_count": 2,
   "metadata": {},
   "outputs": [],
   "source": [
    "import numpy as np\n",
    "import matplotlib.pyplot as plt \n",
    "from sklearn.datasets import load_digits"
   ]
  },
  {
   "cell_type": "code",
   "execution_count": 3,
   "metadata": {},
   "outputs": [],
   "source": [
    "digits = load_digits()\n",
    "x = digits.data\n",
    "y = digits.target\n",
    "n_samples, n_features = x.shape"
   ]
  },
  {
   "cell_type": "code",
   "execution_count": 5,
   "metadata": {},
   "outputs": [],
   "source": [
    "batch_size = 500\n",
    "n_batches = n_samples // batch_size"
   ]
  },
  {
   "cell_type": "code",
   "execution_count": 6,
   "metadata": {},
   "outputs": [],
   "source": [
    "def sigmoid(x):\n",
    "    return 1 / (1 + np.exp(-x))"
   ]
  },
  {
   "cell_type": "code",
   "execution_count": 7,
   "metadata": {},
   "outputs": [
    {
     "data": {
      "text/plain": [
       "array([ 0.,  0.,  5., 13.,  9.,  1.,  0.,  0.,  0.,  0., 13., 15., 10.,\n",
       "       15.,  5.,  0.,  0.,  3., 15.,  2.,  0., 11.,  8.,  0.,  0.,  4.,\n",
       "       12.,  0.,  0.,  8.,  8.,  0.,  0.,  5.,  8.,  0.,  0.,  9.,  8.,\n",
       "        0.,  0.,  4., 11.,  0.,  1., 12.,  7.,  0.,  0.,  2., 14.,  5.,\n",
       "       10., 12.,  0.,  0.,  0.,  0.,  6., 13., 10.,  0.,  0.,  0.])"
      ]
     },
     "execution_count": 7,
     "metadata": {},
     "output_type": "execute_result"
    }
   ],
   "source": [
    "x[0]"
   ]
  },
  {
   "cell_type": "code",
   "execution_count": 8,
   "metadata": {},
   "outputs": [],
   "source": [
    "latent_dim = 2\n",
    "n_hidden = 64\n"
   ]
  },
  {
   "cell_type": "code",
   "execution_count": 11,
   "metadata": {},
   "outputs": [],
   "source": [
    "import numpy as np\n",
    "\n",
    "def sigmoid(x):\n",
    "    return 1 / (1 + np.exp(-x))\n",
    "\n",
    "def relu(x):\n",
    "    return np.maximum(0, x)\n",
    "\n",
    "def forward_vae(x):\n",
    "    input_size = x.shape[0]\n",
    "    hidden_size = 4\n",
    "    latent_size = 2\n",
    "\n",
    "    # Encoder weights\n",
    "    W1 = np.random.randn(hidden_size, input_size)\n",
    "    b1 = np.zeros(hidden_size)\n",
    "\n",
    "    # Mean and logvar layer weights\n",
    "    W_mu = np.random.randn(latent_size, hidden_size)\n",
    "    b_mu = np.zeros(latent_size)\n",
    "\n",
    "    W_logvar = np.random.randn(latent_size, hidden_size)\n",
    "    b_logvar = np.zeros(latent_size)\n",
    "\n",
    "    # Decoder weights\n",
    "    W3 = np.random.randn(hidden_size, latent_size)\n",
    "    b3 = np.zeros(hidden_size)\n",
    "\n",
    "    W4 = np.random.randn(input_size, hidden_size)\n",
    "    b4 = np.zeros(input_size)\n",
    "\n",
    "    # ---- Encoder ----\n",
    "    h1 = relu(np.dot(W1, x) + b1)\n",
    "\n",
    "    mu = np.dot(W_mu, h1) + b_mu\n",
    "    logvar = np.dot(W_logvar, h1) + b_logvar\n",
    "\n",
    "    # ---- Reparameterization Trick ----\n",
    "    std = np.exp(0.5 * logvar)\n",
    "    epsilon = np.random.randn(*std.shape)\n",
    "    z = mu + epsilon * std\n",
    "\n",
    "    # ---- Decoder ----\n",
    "    h3 = relu(np.dot(W3, z) + b3)\n",
    "    x_hat = sigmoid(np.dot(W4, h3) + b4)\n",
    "\n",
    "    return x_hat, mu, logvar, z"
   ]
  },
  {
   "cell_type": "code",
   "execution_count": 12,
   "metadata": {},
   "outputs": [
    {
     "name": "stdout",
     "output_type": "stream",
     "text": [
      "Reconstructed x: [1.00000000e+00 1.00000000e+00 1.00000000e+00 3.33688671e-40\n",
      " 2.16755943e-12 4.81543665e-19]\n",
      "Latent vector z: [-37.94585251   0.08137975]\n"
     ]
    }
   ],
   "source": [
    "x = np.random.rand(6)  # input with 6 features\n",
    "x_hat, mu, logvar, z = forward_vae(x)\n",
    "\n",
    "print(\"Reconstructed x:\", x_hat)\n",
    "print(\"Latent vector z:\", z)"
   ]
  },
  {
   "cell_type": "code",
   "execution_count": 15,
   "metadata": {},
   "outputs": [],
   "source": [
    "def vae_forward(x):\n",
    "    # Encoder weights (3 input → 2 hidden)\n",
    "    W_enc = np.array([[0.1, 0.2, 0.3],\n",
    "                      [0.4, 0.5, 0.6]])\n",
    "    b_enc = np.array([0.0, 0.0])\n",
    "    \n",
    "    # Separate weights for mean and logvar (2 hidden → 2 latent)\n",
    "    W_mu = np.array([[0.2, 0.1],\n",
    "                     [0.3, 0.4]])\n",
    "    b_mu = np.array([0.1, -0.1])\n",
    "\n",
    "    W_logvar = np.array([[0.1, -0.2],\n",
    "                         [0.05, 0.3]])\n",
    "    b_logvar = np.array([-0.2, 0.2])\n",
    "\n",
    "    # Decoder (2 latent → 3 output)\n",
    "    W_dec = np.array([[0.1, 0.2],\n",
    "                      [0.3, 0.4],\n",
    "                      [0.5, 0.6]])\n",
    "    b_dec = np.array([0.0, 0.0, 0.0])\n",
    "    \n",
    "    # Encoder forward pass\n",
    "    h = relu(np.dot(W_enc, x) + b_enc)   # (2,)\n",
    "    \n",
    "    mu = np.dot(W_mu, h) + b_mu          # (2,)\n",
    "    logvar = np.dot(W_logvar, h) + b_logvar  # (2,)\n",
    "\n",
    "    std = np.exp(0.5 * logvar)\n",
    "    epsilon = np.random.randn(*std.shape)\n",
    "    z = mu + std * epsilon               # Reparameterization\n",
    "\n",
    "    x_hat = sigmoid(np.dot(W_dec, z) + b_dec)\n",
    "\n",
    "    return x_hat, z, mu, logvar"
   ]
  },
  {
   "cell_type": "code",
   "execution_count": 16,
   "metadata": {},
   "outputs": [
    {
     "name": "stdout",
     "output_type": "stream",
     "text": [
      "Input x: [0.5 0.2 0.9]\n",
      "Mean (μ): [0.256 0.344]\n",
      "Logvar: [-0.332  0.47 ]\n",
      "Sampled z: [1.10179176 0.22071844]\n",
      "Reconstructed x_hat: [0.53850433 0.60320203 0.66448083]\n"
     ]
    }
   ],
   "source": [
    "x = np.array([0.5, 0.2, 0.9])\n",
    "x_hat, z, mu, logvar = vae_forward(x)\n",
    "\n",
    "print(\"Input x:\", x)\n",
    "print(\"Mean (μ):\", mu)\n",
    "print(\"Logvar:\", logvar)\n",
    "print(\"Sampled z:\", z)\n",
    "print(\"Reconstructed x_hat:\", x_hat)"
   ]
  },
  {
   "cell_type": "code",
   "execution_count": null,
   "metadata": {},
   "outputs": [],
   "source": []
  }
 ],
 "metadata": {
  "kernelspec": {
   "display_name": "Python 3",
   "language": "python",
   "name": "python3"
  },
  "language_info": {
   "codemirror_mode": {
    "name": "ipython",
    "version": 3
   },
   "file_extension": ".py",
   "mimetype": "text/x-python",
   "name": "python",
   "nbconvert_exporter": "python",
   "pygments_lexer": "ipython3",
   "version": "3.9.6"
  }
 },
 "nbformat": 4,
 "nbformat_minor": 2
}
